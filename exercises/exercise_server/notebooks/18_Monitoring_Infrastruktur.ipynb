{
 "cells": [
  {
   "cell_type": "markdown",
   "id": "80d7c61c",
   "metadata": {},
   "source": [
    "# Drift Detection Infrastructure"
   ]
  },
  {
   "cell_type": "markdown",
   "id": "6b6784ff",
   "metadata": {},
   "source": [
    "In dieser Übung setzen wir den Monitoring Dienst auf und lernen diesen kennen. Wird verwenden dazu [Prometheus](https://prometheus.io/docs/introduction/overview/) mit dem [Statsd Exporter](https://github.com/prometheus/statsd_exporter) und [Grafana](https://grafana.com/). \n",
    "\n",
    "Diese Tools werden bereits von vielen Organisationen für das Sammeln von Metriken, das Darstellen deren Verlauf und für die Alarmierung verwendet."
   ]
  },
  {
   "cell_type": "markdown",
   "id": "70b9ceb9",
   "metadata": {},
   "source": [
    "# Vorbereitung"
   ]
  },
  {
   "cell_type": "markdown",
   "id": "020387a7",
   "metadata": {},
   "source": [
    "Speichere alle deine offenen Notebooks. Stoppe alle Container, indem uu Dich ins Top-Level Verzeichnis der Übungen begibst (dort, wo das File `docker-compose.yml` liegt) und `docker compose down` ausführst. Wenn Du die Container im Vordergrund laufen hast, kannst Du in diesem Terminal die Prozesse mit `ctrl-c` stoppen."
   ]
  },
  {
   "cell_type": "markdown",
   "id": "673a3d15",
   "metadata": {},
   "source": [
    "Kommentiere im Top-Level Compose File `docker-compose.yml` den Monitoring Dienst ein."
   ]
  },
  {
   "cell_type": "markdown",
   "id": "e8bb7fa9",
   "metadata": {},
   "source": [
    "Starte alle Container wieder."
   ]
  },
  {
   "cell_type": "markdown",
   "id": "640cc657",
   "metadata": {},
   "source": [
    "# Übungen"
   ]
  },
  {
   "cell_type": "markdown",
   "id": "d9067cb8",
   "metadata": {},
   "source": [
    "## Architektur"
   ]
  },
  {
   "cell_type": "markdown",
   "id": "c8aa78c3",
   "metadata": {},
   "source": [
    "Wir werden die folgenden Architektur aufsetzen:"
   ]
  },
  {
   "cell_type": "markdown",
   "id": "3eb1cdf2",
   "metadata": {},
   "source": [
    "![monitoring_01.png](monitoring_01.png)"
   ]
  },
  {
   "cell_type": "markdown",
   "id": "476f80b4",
   "metadata": {},
   "source": [
    "Dabei ist es wichtig, den Einsatzzweck der einzelnen Komponenten zu verstehen.\n",
    "* **Prometheus**: Sammelt und speichert Datenpunkte und bietet mit PromQL eine eigene Sprache, um diese zu analysieren. Prometheus pullt Metriken immer aktiv, was schön ist für Services, welche dann ihre Metriken einfach auf einer Webseite in dem von Prometheus vorgegebenen Format anbieten können.\n",
    "* **Grafana**: Holt Daten von verschiedenen Quellen und stellt diese grafisch dar. Kann Alarme aussenden.\n",
    "* **Unsere Batch- und Streaming Pipelines**: Berechnen und pushen Metriken aktiv.\n",
    "* **Statsd Exporter**: Nimmt Metriken im Statsd Format entgegen und stellt für Prometheus einen entsprechende Endpoint zum Pullen zur Verfügung.\n",
    "\n",
    "Das Statsd Format ist ein gängiges Format zum Loggen von Metriken. Der Statsd_Exporter übersetzt von diesem Format in ein für Prometheus verständliches Format."
   ]
  },
  {
   "cell_type": "markdown",
   "id": "46ff2f86",
   "metadata": {
    "solution2": "hidden",
    "solution2_first": true
   },
   "source": [
    "Wieso kann auf die Funktionalität des Statsd_Exporters nicht verzichtet werden?"
   ]
  },
  {
   "cell_type": "markdown",
   "id": "7e315d2b",
   "metadata": {
    "solution2": "hidden"
   },
   "source": [
    "Hätten wir nur Streaming-Pipelines, könnte theoretisch auf die Funktionalität des Statsd_Exporters verzichtet werden. Die Pipelines könnten selber für das Polling von Prometheus einen entsprechenden Endpoint zur Verfügung stellen, da sie ja konstant laufen.\n",
    "\n",
    "Bei Batch-Pipelines, welche periodisch gestartet werden, durchlaufen und sich dann beenden, braucht es die Funktionalität des Statsd_Exporters hingegen zwingend."
   ]
  },
  {
   "cell_type": "markdown",
   "id": "4d83a214",
   "metadata": {},
   "source": [
    "----"
   ]
  },
  {
   "cell_type": "markdown",
   "id": "0758b290",
   "metadata": {},
   "source": [
    "## Statsd Service"
   ]
  },
  {
   "cell_type": "markdown",
   "id": "9e2184cc",
   "metadata": {
    "solution2": "hidden",
    "solution2_first": true
   },
   "source": [
    "Schau dir das compose file der Monitoring Dienste an. Via welchen Port kannst du von ausserhalb Docker auf Statsd zugreifen?"
   ]
  },
  {
   "cell_type": "markdown",
   "id": "2552ac6e",
   "metadata": {
    "solution2": "hidden"
   },
   "source": [
    "Von ausserhalb Docker kannst du via den Port 9102 zugreifen."
   ]
  },
  {
   "cell_type": "markdown",
   "id": "f03494b6",
   "metadata": {},
   "source": [
    "----"
   ]
  },
  {
   "cell_type": "markdown",
   "id": "970eaf1d",
   "metadata": {
    "solution2": "hidden",
    "solution2_first": true
   },
   "source": [
    "Nun schau dir das Mapping File an. Welche vier Informationen geben wir mit, wenn unsere Pipeline eine Drift Metrik loggt?"
   ]
  },
  {
   "cell_type": "markdown",
   "id": "0c0bb308",
   "metadata": {
    "solution2": "hidden"
   },
   "source": [
    "Den Namen des Datensets, für welches wir den Drift berechnen (dataset_name), dessen Version (dataset_version), den Spaltennamen, um welchen es geht (column_name) sowie die Bezeichnung der Metrik, welche wir berechnen (metric_name)."
   ]
  },
  {
   "cell_type": "markdown",
   "id": "6546d101",
   "metadata": {},
   "source": [
    "----"
   ]
  },
  {
   "cell_type": "markdown",
   "id": "52f341a9",
   "metadata": {
    "solution2": "hidden",
    "solution2_first": true
   },
   "source": [
    "Greife nun auf die Seite der Metriken zu, welche der Statsd_Exporter für Prometheus zur Verfügung stellt: [http://localhost:9102/metrics](http://localhost:9102/metrics). Du siehst bereits viel Text, ohne dass wir schon etwas geloggt hätten. Was könnte dieser bedeuten?"
   ]
  },
  {
   "cell_type": "markdown",
   "id": "a20e1bc0",
   "metadata": {
    "solution2": "hidden"
   },
   "source": [
    "Es handelt sich um Metriken, welche der Statsd_Exporter über sich selber zur Verfügung stellt, damit er als Service überwacht werden kann."
   ]
  },
  {
   "cell_type": "markdown",
   "id": "a0b81df6",
   "metadata": {},
   "source": [
    "----"
   ]
  },
  {
   "cell_type": "markdown",
   "id": "d99c6873",
   "metadata": {
    "solution2": "hidden",
    "solution2_first": true
   },
   "source": [
    "Der Exporter liest jeden empfangenen String, und wenn dieser in eines der definierten Mappings passt, erscheint der (aktualisierte) Wert auf der `/metrics` Webseite und kann von Prometheus gepollt werden.\n",
    "\n",
    "Wie muss ein gültiger String aussehen, der eine unserer Drift Metriken definiert?"
   ]
  },
  {
   "cell_type": "markdown",
   "id": "d8a35991",
   "metadata": {
    "solution2": "hidden"
   },
   "source": [
    "Die `match` direktive aus dem Mappings File zeigt das Muster an mit vier Platzhalter an:\n",
    "\n",
    "    match: \"drift_metrics.*.*.*.*\"\n",
    "    \n",
    "Für die `*` können beliebige Werte einfügen, z.B.\n",
    "\n",
    "    drift_metrics.mushroom.v1.cap-diameter.wasserstein\n",
    "    \n",
    "Der eigentliche Wert wird, abgetrennt durch einen Doppelpunkt angehängt. Danach folgt, abgetrennt durch eine Pipe, der Typ der Metrik. Welche Typen es gibt, sehen wir später.\n",
    "\n",
    "    drift_metrics.mushroom.v1.cap-diameter.wasserstein:42|g\n",
    "    \n",
    "Die vier `labels` werden für die Umformatierung ins Prometheus Format verwendet."
   ]
  },
  {
   "cell_type": "markdown",
   "id": "649d3267",
   "metadata": {},
   "source": [
    "----"
   ]
  },
  {
   "cell_type": "markdown",
   "id": "ac4c4938",
   "metadata": {},
   "source": [
    "Versuche nun testweise, den Wert einer Metrik an den Statsd_Exporter zu schicken. Dazu musst du den obigen String via UDP an den Port 8125 schicken. Am einfachsten geht dies via [netcat](https://en.wikipedia.org/wiki/Netcat). Da der Port aber nicht nach ausserhalb des Docker-Netzwerkes gemappt ist (nur `expose` und nicht `ports` im compose file), und netcat möglicherweise nicht auf dem Host (dein Laptop oder codespaces) installiert ist, verwendest du ein Docker Image. Führe den folgenden Befehl aus:\n",
    "\n",
    "    docker run -i --rm --network=production --name netcat_test subfuzion/netcat -u statsd 8125\n",
    "\n",
    "Netcat wartet auf eine Eingabe (kein Prompt sichtbar), du pastest den String von oben und drückst Enter.\n",
    "\n",
    "    drift_metrics.mushroom.v1.cap-diameter.wasserstein:42|g"
   ]
  },
  {
   "cell_type": "markdown",
   "id": "38a81f6d",
   "metadata": {},
   "source": [
    "Nun gehe noch einmal auf die Webseite [http://localhost:9102/metrics](http://localhost:9102/metrics). Die Metrik müsste nun mit dem Wert 42 sichtbar sein (wahrscheinlich oben an der Seite):\n",
    "\n",
    "    drift_metrics{column_name=\"cap-diameter\",dataset_name=\"mushroom\",dataset_version=\"v1\",metric_name=\"wasserstein\"} 42\n",
    "    \n",
    "Wir sehen, dass der Exporter die Angaben aus dem Mappings File verwendet hat, um die erhaltene Metrik für Prometheus umzuformatieren."
   ]
  },
  {
   "cell_type": "markdown",
   "id": "0ba0d44e",
   "metadata": {},
   "source": [
    "Den noch laufenden netcat Container kannst Du mittels `docker stop netcat_test` stoppen."
   ]
  },
  {
   "cell_type": "markdown",
   "id": "4dcf872c",
   "metadata": {},
   "source": [
    "## Prometheus Service"
   ]
  },
  {
   "cell_type": "markdown",
   "id": "51001efa",
   "metadata": {
    "solution2": "hidden",
    "solution2_first": true
   },
   "source": [
    "Schau Dir nun das Config File von Prometheus an. Was siehst du?"
   ]
  },
  {
   "cell_type": "markdown",
   "id": "97f518dd",
   "metadata": {
    "solution2": "hidden"
   },
   "source": [
    "Es sind zwei Jobs definiert, Prometheus sammelt also Daten von zweien Services. Einerseits von sich selbst, und andererseits unsere Drift Metriken via Statsd. Eigentlich sollte noch eine dritte Quelle vorhanden sein, nämlich die Metriken des Statsd_Exporters selber. Diese haben wir der Einfachheit halber ausgelassen."
   ]
  },
  {
   "cell_type": "markdown",
   "id": "dff9a8e2",
   "metadata": {},
   "source": [
    "----"
   ]
  },
  {
   "cell_type": "markdown",
   "id": "b67a0b91",
   "metadata": {
    "solution2": "hidden",
    "solution2_first": true
   },
   "source": [
    "Öffne nun die Webseite von Prometheus: [http://localhost:9090/](http://localhost:9090/). Versuche, die vorher testweise geloggte Drift Metrik sowie Metriken zu Prometheus selber anzuzeigen."
   ]
  },
  {
   "cell_type": "markdown",
   "id": "3ee26bd4",
   "metadata": {
    "solution2": "hidden"
   },
   "source": [
    "Du kannst dazu im Query-Fenster beispielsweise `drift_metrics` eingeben und `Execute` drücken. Auto-Complete funktioniert auch."
   ]
  },
  {
   "cell_type": "markdown",
   "id": "40f65eef",
   "metadata": {},
   "source": [
    "----"
   ]
  },
  {
   "cell_type": "markdown",
   "id": "822d0779",
   "metadata": {},
   "source": [
    "Zeige nun noch via das Status Menu die konfigurierten Targets an. Du siehst die im Config File definierten Targets, `prometheus` und `dataset_metrics`."
   ]
  },
  {
   "cell_type": "markdown",
   "id": "aa364877",
   "metadata": {},
   "source": [
    "## Grafana"
   ]
  },
  {
   "cell_type": "markdown",
   "id": "93b9fbc8",
   "metadata": {
    "solution2": "hidden",
    "solution2_first": true
   },
   "source": [
    "Nun greife auf [Grafana](http://localhost:3000/) zu. Erstelle als erstes eine Data Source für Prometheus."
   ]
  },
  {
   "cell_type": "markdown",
   "id": "03c2ab00",
   "metadata": {
    "solution2": "hidden"
   },
   "source": [
    "1. Klicke im Sidebar links auf `Connections -> Data sources` und dann auf `Add new data source` oben rechts.\n",
    "1. Suche und wähle `Prometheus`\n",
    "1. Setze unter Connections die `Prometheus server URL` auf `http://prometheus:9090`\n",
    "1. Klicke ganz unten auf `Save & test`, es sollte eine grüne Erfolgsmeldung Meldung erscheinen"
   ]
  },
  {
   "cell_type": "markdown",
   "id": "504e0641",
   "metadata": {},
   "source": [
    "----"
   ]
  },
  {
   "cell_type": "markdown",
   "id": "b38b326d",
   "metadata": {
    "solution2": "hidden",
    "solution2_first": true
   },
   "source": [
    "Als nächstes erstellst Du ein neues Dashboard und fügst diesem eine Visualisierung hinzu. Baue Dir eine Visualisierung, welche die Drift Metrik auf eine einfache Weise anzeigt. Du wirst noch nicht viel sehen können, denn du hast erst einen einzigen Datenpunkt, den vom obigen Test.\n",
    "\n",
    "Du kannst das Dashboard später ausbauen, wenn wir mehr Daten haben."
   ]
  },
  {
   "cell_type": "markdown",
   "id": "c3dc3938",
   "metadata": {
    "solution2": "hidden"
   },
   "source": [
    "1. `Dashboards -> New`\n",
    "1. `Add visualization`\n",
    "1. Prometheus auswählen\n",
    "1. Unter `Metric` im `Select metric` dropdown `drift_metrics` wählen\n",
    "1. Button `Run queries` betätigen\n",
    "\n",
    "Im Panel sieht man nun einen kleinen Punkt und in der Legende eine lange Zeile. Dieses automatisch generierte Label ist etwas unleserlich. Unter `Options` können wir das anpassen: Legend = Custom, statt = `{{label_name}}` setzen wir `{{column_name}}`.\n",
    "\n",
    "Nun noch rechts oben einen `Panel Title` setzen und Save klicken und Dashboard benennen."
   ]
  },
  {
   "cell_type": "markdown",
   "id": "fae16c36",
   "metadata": {},
   "source": [
    "----"
   ]
  },
  {
   "cell_type": "markdown",
   "id": "35045084",
   "metadata": {},
   "source": [
    "Wenn Du möchtest, kannst du nun in Prometheus noch Grafana selber als Quelle hinzufügen, damit wir auch den Grafana Dienst überwachen können :-)"
   ]
  },
  {
   "cell_type": "markdown",
   "id": "75331ccc",
   "metadata": {},
   "source": [
    "# Architekturübersicht"
   ]
  },
  {
   "cell_type": "markdown",
   "id": "3fb3d8aa",
   "metadata": {
    "solution2": "hidden",
    "solution2_first": true
   },
   "source": [
    "Unsere erweiterte Architektur sieht nun so aus."
   ]
  },
  {
   "cell_type": "markdown",
   "id": "eb1e624b",
   "metadata": {
    "solution2": "hidden"
   },
   "source": [
    "![monitoring_02.png](monitoring_02.png)"
   ]
  },
  {
   "cell_type": "markdown",
   "id": "218d5190",
   "metadata": {},
   "source": [
    "----"
   ]
  },
  {
   "cell_type": "markdown",
   "id": "fb1efa15",
   "metadata": {},
   "source": [
    "**Bitte quittiere wiederum auf [Mentimeter](https://www.menti.com/alaxbnek73eu), dass du mit der Übung durch bist**."
   ]
  },
  {
   "cell_type": "markdown",
   "id": "f0b6bacb",
   "metadata": {},
   "source": [
    "Du kannst nun gleich mit der nächsten Übung weiterfahren (`19_Drift_Detection_Pipeline.ipynb`)."
   ]
  }
 ],
 "metadata": {
  "kernelspec": {
   "display_name": "Python 3 (ipykernel)",
   "language": "python",
   "name": "python3"
  },
  "language_info": {
   "codemirror_mode": {
    "name": "ipython",
    "version": 3
   },
   "file_extension": ".py",
   "mimetype": "text/x-python",
   "name": "python",
   "nbconvert_exporter": "python",
   "pygments_lexer": "ipython3",
   "version": "3.12.2"
  }
 },
 "nbformat": 4,
 "nbformat_minor": 5
}
