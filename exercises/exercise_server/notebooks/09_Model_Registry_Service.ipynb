{
 "cells": [
  {
   "cell_type": "markdown",
   "id": "0191b181",
   "metadata": {},
   "source": [
    "# MLFlow Service"
   ]
  },
  {
   "cell_type": "markdown",
   "id": "2122a185",
   "metadata": {},
   "source": [
    "In dieser Übung setzen wir den MLFlow Dienst auf."
   ]
  },
  {
   "cell_type": "markdown",
   "id": "0a3ffbc4",
   "metadata": {},
   "source": [
    "# Vorbereitung"
   ]
  },
  {
   "cell_type": "markdown",
   "id": "209bf4a2",
   "metadata": {},
   "source": [
    "Diesmal gibt es nichts vorzubereiten."
   ]
  },
  {
   "cell_type": "markdown",
   "id": "96e6f054",
   "metadata": {},
   "source": [
    "# Übungen"
   ]
  },
  {
   "cell_type": "markdown",
   "id": "3f680ff3",
   "metadata": {},
   "source": [
    "Wir erweitern unsere Infrastruktur um MLFlow, welches und Experiment Tracking, ein Deployment API und eine Model Registry zur Verfügung stellt."
   ]
  },
  {
   "cell_type": "markdown",
   "id": "996ebd13",
   "metadata": {
    "solution2": "hidden",
    "solution2_first": true
   },
   "source": [
    "Wir hatten in der ersten Übung die beiden Docker Netzwerke `development` und `production` definiert. In welches dieser Netze binden wir MLFlow ein?"
   ]
  },
  {
   "cell_type": "markdown",
   "id": "791ff609",
   "metadata": {
    "solution2": "hidden"
   },
   "source": [
    "Richtig, in beide natürlich. MLFlow muss während der Entwicklung für das Logging von Modellen verfügbar sein, und wärend dem Betrieb für den Bezug von ML Modellen aus der Registry."
   ]
  },
  {
   "cell_type": "markdown",
   "id": "0f58e22e",
   "metadata": {},
   "source": [
    "----"
   ]
  },
  {
   "cell_type": "markdown",
   "id": "d2e0dfda",
   "metadata": {
    "solution2": "hidden",
    "solution2_first": true
   },
   "source": [
    "Schau dir das compose file von MLFlow an.\n",
    " * Via welchen Port kannst Du mit auf MLFlow zugreifen?\n",
    " * Wo sind die Artefakte gespeichert?\n",
    " * Wo sind die Metadaten gespeichert? "
   ]
  },
  {
   "cell_type": "markdown",
   "id": "51ec4576",
   "metadata": {
    "solution2": "hidden"
   },
   "source": [
    "Die Antwort findest du in den Direktiven command, ports und volume im compose file:\n",
    "\n",
    "    command: mlflow server --host 0.0.0.0 --port 5001 --artifacts-destination s3://artifacts --backend-store-uri sqlite:///metadata.db\n",
    "\n",
    "    ports:\n",
    "      - 5001:5001  # 5000 is taken by airplay on macos\n",
    "      \n",
    "    volumes:\n",
    "      - ../../mlflow_metadata.sqlite:/metadata.sqlite"
   ]
  },
  {
   "cell_type": "markdown",
   "id": "aa834b87",
   "metadata": {},
   "source": [
    "----"
   ]
  },
  {
   "cell_type": "markdown",
   "id": "ab981e86",
   "metadata": {
    "solution2": "hidden",
    "solution2_first": true
   },
   "source": [
    "Aktiviere und starte nun den MLFlow Dienst."
   ]
  },
  {
   "cell_type": "markdown",
   "id": "ec428f52",
   "metadata": {
    "solution2": "hidden"
   },
   "source": [
    "Du führst dazu die folgenden fünf Schritte aus:\n",
    "\n",
    "1. Alle laufenden Notebooks speichern\n",
    "1. Alle Container stoppen (entweder mit ctrl-c wenn der Docker Prozess im Vordergrund läuft oder mit `docker compose down`) im Verzeichnis `/exercises`, wo das Top-Level File `docker-compose.yml` liegt.\n",
    "1. Im top-level compose file die Zeile mit MLFlow einkommentieren:\n",
    "\n",
    "````\n",
    "include:\n",
    "  - docker_includes/networks.yml\n",
    "  - containers/minio.yml\n",
    "  - containers/development_env/development_env.yml\n",
    "  - containers/mlflow/mlflow.yml\n",
    "#  - containers/message-broker/message-broker.yml\n",
    "#  - containers/monitoring/monitoring.yml\n",
    "````\n",
    "\n",
    "4. Im compose File der Development Umgebung (`containers/development_env/development_env.yml`) die Umgebungsvariable MLFLOW_TRACKING_URI einkommentieren:\n",
    "````\n",
    "      environment:\n",
    "        - FSSPEC_S3_KEY=${MINIO_ADMIN}\n",
    "        - FSSPEC_S3_SECRET=${MINIO_SECRET}\n",
    "        - FSSPEC_S3_ENDPOINT_URL=${MINIO_ENDPOINT}\n",
    "        - GIT_PYTHON_REFRESH=quiet\n",
    "        - MLFLOW_TRACKING_URI=http://model-registry:5001\n",
    "````\n",
    "5. Die container mit `docker-compose up` oder `docker-compose up -d` wieder starten"
   ]
  },
  {
   "cell_type": "markdown",
   "id": "cc86cbb3",
   "metadata": {},
   "source": [
    "----"
   ]
  },
  {
   "cell_type": "markdown",
   "id": "49842441",
   "metadata": {
    "solution2": "hidden",
    "solution2_first": true
   },
   "source": [
    "Unsere Umgebung sieht nun so aus:"
   ]
  },
  {
   "cell_type": "markdown",
   "id": "a809a800",
   "metadata": {
    "solution2": "hidden"
   },
   "source": [
    "![summary.png](summary_mlflow.png)"
   ]
  },
  {
   "cell_type": "markdown",
   "id": "c6446498",
   "metadata": {},
   "source": [
    "----"
   ]
  },
  {
   "cell_type": "markdown",
   "id": "b1e8d83e",
   "metadata": {
    "solution2": "hidden",
    "solution2_first": true
   },
   "source": [
    "Schau dir nochmals compose file von MLFlow an. Etwas gibt es noch zu tun, kannst Du herausfinden, was?"
   ]
  },
  {
   "cell_type": "markdown",
   "id": "20ca8363",
   "metadata": {
    "solution2": "hidden"
   },
   "source": [
    "Wir starten MLFlow mit dem Befehl\n",
    "\n",
    "`command: mlflow server --host 0.0.0.0 --port 5001 `**--artifacts-destination s3://artifacts**` --backend-store-uri sqlite:///metadata.db`\n",
    "\n",
    "Dieser Bucket im Object Store muss manuell erstellt werden. Alles, was darunter liegt, erstellt und verwaltet MLFlow dann selber.\n",
    "\n",
    "Erstelle den Bucket."
   ]
  },
  {
   "cell_type": "code",
   "execution_count": null,
   "id": "61472245",
   "metadata": {
    "solution2": "hidden"
   },
   "outputs": [],
   "source": [
    "import s3fs\n",
    "\n",
    "s3fs.S3FileSystem().mkdir('/artifacts')"
   ]
  },
  {
   "cell_type": "markdown",
   "id": "4bcccda7",
   "metadata": {},
   "source": [
    "----"
   ]
  },
  {
   "cell_type": "markdown",
   "id": "f9774876",
   "metadata": {},
   "source": [
    "**Bitte quittiere wiederum auf [Mentimeter](https://www.menti.com/alaxbnek73eu), dass du mit der Übung durch bist**."
   ]
  },
  {
   "cell_type": "markdown",
   "id": "02600c81",
   "metadata": {},
   "source": [
    "Du kannst nun gleich zur nächsten Übung (`10_Ein_einfaches_Modell_mit_MLFlow.ipynb`) gehen."
   ]
  }
 ],
 "metadata": {
  "kernelspec": {
   "display_name": "Python 3 (ipykernel)",
   "language": "python",
   "name": "python3"
  },
  "language_info": {
   "codemirror_mode": {
    "name": "ipython",
    "version": 3
   },
   "file_extension": ".py",
   "mimetype": "text/x-python",
   "name": "python",
   "nbconvert_exporter": "python",
   "pygments_lexer": "ipython3",
   "version": "3.12.2"
  }
 },
 "nbformat": 4,
 "nbformat_minor": 5
}
