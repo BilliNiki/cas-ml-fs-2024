{
 "cells": [
  {
   "cell_type": "markdown",
   "id": "adff6644-21d3-4c9f-b7a2-d100ff8c7c1b",
   "metadata": {},
   "source": [
    "# Simulate Inference Data"
   ]
  },
  {
   "cell_type": "code",
   "execution_count": 70,
   "id": "7976112e-dd5b-4c89-8831-55de9d4929ca",
   "metadata": {},
   "outputs": [
    {
     "name": "stderr",
     "output_type": "stream",
     "text": [
      "/usr/local/lib/python3.12/site-packages/numpy/core/fromnumeric.py:59: FutureWarning: 'DataFrame.swapaxes' is deprecated and will be removed in a future version. Please use 'DataFrame.transpose' instead.\n",
      "  return bound(*args, **kwds)\n",
      "/tmp/ipykernel_29224/2430470588.py:12: FutureWarning: The behavior of DataFrame concatenation with empty or all-NA entries is deprecated. In a future version, this will no longer exclude empty or all-NA columns when determining the result dtypes. To retain the old behavior, exclude the relevant entries before the concat operation.\n",
      "  df = pd.concat([df, chunk], axis='rows')\n"
     ]
    },
    {
     "data": {
      "text/html": [
       "<div>\n",
       "<style scoped>\n",
       "    .dataframe tbody tr th:only-of-type {\n",
       "        vertical-align: middle;\n",
       "    }\n",
       "\n",
       "    .dataframe tbody tr th {\n",
       "        vertical-align: top;\n",
       "    }\n",
       "\n",
       "    .dataframe thead th {\n",
       "        text-align: right;\n",
       "    }\n",
       "</style>\n",
       "<table border=\"1\" class=\"dataframe\">\n",
       "  <thead>\n",
       "    <tr style=\"text-align: right;\">\n",
       "      <th></th>\n",
       "      <th>event_date</th>\n",
       "      <th>cap-diameter</th>\n",
       "      <th>cap-shape</th>\n",
       "      <th>gill-attachment</th>\n",
       "      <th>gill-color</th>\n",
       "      <th>stem-height</th>\n",
       "      <th>stem-width</th>\n",
       "      <th>stem-color</th>\n",
       "      <th>season</th>\n",
       "    </tr>\n",
       "  </thead>\n",
       "  <tbody>\n",
       "    <tr>\n",
       "      <th>0</th>\n",
       "      <td>2024-09-11</td>\n",
       "      <td>1372</td>\n",
       "      <td>2</td>\n",
       "      <td>2</td>\n",
       "      <td>10</td>\n",
       "      <td>3.807467</td>\n",
       "      <td>1545</td>\n",
       "      <td>11</td>\n",
       "      <td>1.804273</td>\n",
       "    </tr>\n",
       "    <tr>\n",
       "      <th>1</th>\n",
       "      <td>2024-09-11</td>\n",
       "      <td>1461</td>\n",
       "      <td>2</td>\n",
       "      <td>2</td>\n",
       "      <td>10</td>\n",
       "      <td>3.807467</td>\n",
       "      <td>1557</td>\n",
       "      <td>11</td>\n",
       "      <td>1.804273</td>\n",
       "    </tr>\n",
       "    <tr>\n",
       "      <th>2</th>\n",
       "      <td>2024-09-11</td>\n",
       "      <td>1371</td>\n",
       "      <td>2</td>\n",
       "      <td>2</td>\n",
       "      <td>10</td>\n",
       "      <td>3.612496</td>\n",
       "      <td>1566</td>\n",
       "      <td>11</td>\n",
       "      <td>1.804273</td>\n",
       "    </tr>\n",
       "    <tr>\n",
       "      <th>3</th>\n",
       "      <td>2024-09-11</td>\n",
       "      <td>1261</td>\n",
       "      <td>6</td>\n",
       "      <td>2</td>\n",
       "      <td>10</td>\n",
       "      <td>3.787572</td>\n",
       "      <td>1566</td>\n",
       "      <td>11</td>\n",
       "      <td>1.804273</td>\n",
       "    </tr>\n",
       "    <tr>\n",
       "      <th>4</th>\n",
       "      <td>2024-09-11</td>\n",
       "      <td>1305</td>\n",
       "      <td>6</td>\n",
       "      <td>2</td>\n",
       "      <td>10</td>\n",
       "      <td>3.711971</td>\n",
       "      <td>1464</td>\n",
       "      <td>11</td>\n",
       "      <td>0.943195</td>\n",
       "    </tr>\n",
       "  </tbody>\n",
       "</table>\n",
       "</div>"
      ],
      "text/plain": [
       "  event_date  cap-diameter  cap-shape  gill-attachment  gill-color  \\\n",
       "0 2024-09-11          1372          2                2          10   \n",
       "1 2024-09-11          1461          2                2          10   \n",
       "2 2024-09-11          1371          2                2          10   \n",
       "3 2024-09-11          1261          6                2          10   \n",
       "4 2024-09-11          1305          6                2          10   \n",
       "\n",
       "   stem-height  stem-width  stem-color    season  \n",
       "0     3.807467        1545          11  1.804273  \n",
       "1     3.807467        1557          11  1.804273  \n",
       "2     3.612496        1566          11  1.804273  \n",
       "3     3.787572        1566          11  1.804273  \n",
       "4     3.711971        1464          11  0.943195  "
      ]
     },
     "execution_count": 70,
     "metadata": {},
     "output_type": "execute_result"
    }
   ],
   "source": [
    "import pandas as pd\n",
    "import numpy as np\n",
    "\n",
    "\n",
    "df = pd.read_parquet('s3://traindata/train_raw.parquet', storage_options={\"anon\": False}).drop('class', axis='columns')\n",
    "\n",
    "# quick and dirty way to add an event date column\n",
    "df.insert(0, 'event_date', None)\n",
    "num_days = 4\n",
    "for chunk, date_ in zip(np.array_split(df, num_days), pd.date_range(\"2024-09-11\", periods=num_days, freq=\"d\")):\n",
    "    chunk.event_date = date_\n",
    "    df = pd.concat([df, chunk], axis='rows')\n",
    "    \n",
    "# we need to remove all original rows, those are duplicates that do not have a value in the event_date column\n",
    "df = df.dropna()\n",
    "\n",
    "df.head()"
   ]
  },
  {
   "cell_type": "code",
   "execution_count": 24,
   "id": "f7f597c4-8117-47f3-8683-c36ac024f283",
   "metadata": {},
   "outputs": [],
   "source": [
    "import s3fs\n",
    "\n",
    "s3 = s3fs.S3FileSystem()\n",
    "s3.mkdir(\"inferencedata\")"
   ]
  },
  {
   "cell_type": "code",
   "execution_count": 71,
   "id": "8b6ed1fb-77c5-4ee7-bfe4-bfd615043518",
   "metadata": {},
   "outputs": [],
   "source": [
    "df.to_parquet('s3://inferencedata/inference_raw.parquet', storage_options={\"anon\": False})"
   ]
  },
  {
   "cell_type": "markdown",
   "id": "f4768575-3a01-438a-ba2f-49f6bf9cf325",
   "metadata": {},
   "source": [
    "# Modell laden"
   ]
  },
  {
   "cell_type": "code",
   "execution_count": 65,
   "id": "15bd06e3-84e3-4ab4-9eff-855dbe61e99a",
   "metadata": {},
   "outputs": [
    {
     "data": {
      "application/vnd.jupyter.widget-view+json": {
       "model_id": "77d981df9889470d98cf40494a356192",
       "version_major": 2,
       "version_minor": 0
      },
      "text/plain": [
       "Downloading artifacts:   0%|          | 0/5 [00:00<?, ?it/s]"
      ]
     },
     "metadata": {},
     "output_type": "display_data"
    }
   ],
   "source": [
    "import mlflow\n",
    "\n",
    "# we never defined an official name, make sure you use the name of your own registered model here\n",
    "model_name = \"mushroom\"\n",
    "\n",
    "# this also only works if you set this alias for above model\n",
    "model_version_alias = \"champion\"\n",
    "\n",
    "model_uri = f\"models:/{model_name}@{model_version_alias}\"\n",
    "model = mlflow.sklearn.load_model(model_uri)"
   ]
  },
  {
   "cell_type": "markdown",
   "id": "866de9a9-c28f-4ff0-8fca-e7ce3dff4586",
   "metadata": {},
   "source": [
    "# Trainingsdaten aus Object Store lesen"
   ]
  },
  {
   "cell_type": "code",
   "execution_count": 75,
   "id": "06185357-4534-489c-add4-6e0da6ae12a2",
   "metadata": {},
   "outputs": [
    {
     "data": {
      "text/html": [
       "<div>\n",
       "<style scoped>\n",
       "    .dataframe tbody tr th:only-of-type {\n",
       "        vertical-align: middle;\n",
       "    }\n",
       "\n",
       "    .dataframe tbody tr th {\n",
       "        vertical-align: top;\n",
       "    }\n",
       "\n",
       "    .dataframe thead th {\n",
       "        text-align: right;\n",
       "    }\n",
       "</style>\n",
       "<table border=\"1\" class=\"dataframe\">\n",
       "  <thead>\n",
       "    <tr style=\"text-align: right;\">\n",
       "      <th></th>\n",
       "      <th>event_date</th>\n",
       "      <th>cap-diameter</th>\n",
       "      <th>cap-shape</th>\n",
       "      <th>gill-attachment</th>\n",
       "      <th>gill-color</th>\n",
       "      <th>stem-height</th>\n",
       "      <th>stem-width</th>\n",
       "      <th>stem-color</th>\n",
       "      <th>season</th>\n",
       "    </tr>\n",
       "  </thead>\n",
       "  <tbody>\n",
       "    <tr>\n",
       "      <th>13509</th>\n",
       "      <td>2024-09-12</td>\n",
       "      <td>476</td>\n",
       "      <td>6</td>\n",
       "      <td>0</td>\n",
       "      <td>11</td>\n",
       "      <td>0.219270</td>\n",
       "      <td>495</td>\n",
       "      <td>7</td>\n",
       "      <td>1.804273</td>\n",
       "    </tr>\n",
       "    <tr>\n",
       "      <th>13510</th>\n",
       "      <td>2024-09-12</td>\n",
       "      <td>472</td>\n",
       "      <td>6</td>\n",
       "      <td>0</td>\n",
       "      <td>11</td>\n",
       "      <td>0.337788</td>\n",
       "      <td>493</td>\n",
       "      <td>7</td>\n",
       "      <td>0.027372</td>\n",
       "    </tr>\n",
       "    <tr>\n",
       "      <th>13511</th>\n",
       "      <td>2024-09-12</td>\n",
       "      <td>519</td>\n",
       "      <td>2</td>\n",
       "      <td>0</td>\n",
       "      <td>10</td>\n",
       "      <td>0.485011</td>\n",
       "      <td>597</td>\n",
       "      <td>7</td>\n",
       "      <td>1.804273</td>\n",
       "    </tr>\n",
       "    <tr>\n",
       "      <th>13512</th>\n",
       "      <td>2024-09-12</td>\n",
       "      <td>285</td>\n",
       "      <td>2</td>\n",
       "      <td>0</td>\n",
       "      <td>11</td>\n",
       "      <td>0.278104</td>\n",
       "      <td>523</td>\n",
       "      <td>7</td>\n",
       "      <td>1.804273</td>\n",
       "    </tr>\n",
       "    <tr>\n",
       "      <th>13513</th>\n",
       "      <td>2024-09-12</td>\n",
       "      <td>507</td>\n",
       "      <td>6</td>\n",
       "      <td>0</td>\n",
       "      <td>11</td>\n",
       "      <td>0.683960</td>\n",
       "      <td>532</td>\n",
       "      <td>7</td>\n",
       "      <td>0.943195</td>\n",
       "    </tr>\n",
       "  </tbody>\n",
       "</table>\n",
       "</div>"
      ],
      "text/plain": [
       "      event_date  cap-diameter  cap-shape  gill-attachment  gill-color  \\\n",
       "13509 2024-09-12           476          6                0          11   \n",
       "13510 2024-09-12           472          6                0          11   \n",
       "13511 2024-09-12           519          2                0          10   \n",
       "13512 2024-09-12           285          2                0          11   \n",
       "13513 2024-09-12           507          6                0          11   \n",
       "\n",
       "       stem-height  stem-width  stem-color    season  \n",
       "13509     0.219270         495           7  1.804273  \n",
       "13510     0.337788         493           7  0.027372  \n",
       "13511     0.485011         597           7  1.804273  \n",
       "13512     0.278104         523           7  1.804273  \n",
       "13513     0.683960         532           7  0.943195  "
      ]
     },
     "execution_count": 75,
     "metadata": {},
     "output_type": "execute_result"
    }
   ],
   "source": [
    "# yesterday = pd.Timestamp.today() - pd.Timedelta(days=1)\n",
    "yesterday = pd.to_datetime('2024-09-13') - pd.Timedelta(days=1)\n",
    "\n",
    "sel = [(\"event_date\", \"==\", yesterday)]\n",
    "df = pd.read_parquet('s3://inferencedata/inference_raw.parquet', filters=sel, storage_options={\"anon\": False})\n",
    "df.head()"
   ]
  },
  {
   "cell_type": "markdown",
   "id": "c9f7fa0e-a203-4d2d-9119-de4aa849727a",
   "metadata": {},
   "source": [
    "# Inferenz"
   ]
  },
  {
   "cell_type": "code",
   "execution_count": 76,
   "id": "90db5aa5-3e3f-40f8-ab0f-a2e5e62b9890",
   "metadata": {},
   "outputs": [],
   "source": [
    "df['prediction'] = model.predict(df.drop('event_date', axis='columns'))"
   ]
  },
  {
   "cell_type": "code",
   "execution_count": 77,
   "id": "84f00987-6730-41e5-8693-fde63e18259e",
   "metadata": {},
   "outputs": [
    {
     "data": {
      "text/html": [
       "<div>\n",
       "<style scoped>\n",
       "    .dataframe tbody tr th:only-of-type {\n",
       "        vertical-align: middle;\n",
       "    }\n",
       "\n",
       "    .dataframe tbody tr th {\n",
       "        vertical-align: top;\n",
       "    }\n",
       "\n",
       "    .dataframe thead th {\n",
       "        text-align: right;\n",
       "    }\n",
       "</style>\n",
       "<table border=\"1\" class=\"dataframe\">\n",
       "  <thead>\n",
       "    <tr style=\"text-align: right;\">\n",
       "      <th></th>\n",
       "      <th>event_date</th>\n",
       "      <th>cap-diameter</th>\n",
       "      <th>cap-shape</th>\n",
       "      <th>gill-attachment</th>\n",
       "      <th>gill-color</th>\n",
       "      <th>stem-height</th>\n",
       "      <th>stem-width</th>\n",
       "      <th>stem-color</th>\n",
       "      <th>season</th>\n",
       "      <th>prediction</th>\n",
       "    </tr>\n",
       "  </thead>\n",
       "  <tbody>\n",
       "    <tr>\n",
       "      <th>13509</th>\n",
       "      <td>2024-09-12</td>\n",
       "      <td>476</td>\n",
       "      <td>6</td>\n",
       "      <td>0</td>\n",
       "      <td>11</td>\n",
       "      <td>0.219270</td>\n",
       "      <td>495</td>\n",
       "      <td>7</td>\n",
       "      <td>1.804273</td>\n",
       "      <td>0.0</td>\n",
       "    </tr>\n",
       "    <tr>\n",
       "      <th>13510</th>\n",
       "      <td>2024-09-12</td>\n",
       "      <td>472</td>\n",
       "      <td>6</td>\n",
       "      <td>0</td>\n",
       "      <td>11</td>\n",
       "      <td>0.337788</td>\n",
       "      <td>493</td>\n",
       "      <td>7</td>\n",
       "      <td>0.027372</td>\n",
       "      <td>0.0</td>\n",
       "    </tr>\n",
       "    <tr>\n",
       "      <th>13511</th>\n",
       "      <td>2024-09-12</td>\n",
       "      <td>519</td>\n",
       "      <td>2</td>\n",
       "      <td>0</td>\n",
       "      <td>10</td>\n",
       "      <td>0.485011</td>\n",
       "      <td>597</td>\n",
       "      <td>7</td>\n",
       "      <td>1.804273</td>\n",
       "      <td>0.0</td>\n",
       "    </tr>\n",
       "    <tr>\n",
       "      <th>13512</th>\n",
       "      <td>2024-09-12</td>\n",
       "      <td>285</td>\n",
       "      <td>2</td>\n",
       "      <td>0</td>\n",
       "      <td>11</td>\n",
       "      <td>0.278104</td>\n",
       "      <td>523</td>\n",
       "      <td>7</td>\n",
       "      <td>1.804273</td>\n",
       "      <td>0.0</td>\n",
       "    </tr>\n",
       "    <tr>\n",
       "      <th>13513</th>\n",
       "      <td>2024-09-12</td>\n",
       "      <td>507</td>\n",
       "      <td>6</td>\n",
       "      <td>0</td>\n",
       "      <td>11</td>\n",
       "      <td>0.683960</td>\n",
       "      <td>532</td>\n",
       "      <td>7</td>\n",
       "      <td>0.943195</td>\n",
       "      <td>1.0</td>\n",
       "    </tr>\n",
       "  </tbody>\n",
       "</table>\n",
       "</div>"
      ],
      "text/plain": [
       "      event_date  cap-diameter  cap-shape  gill-attachment  gill-color  \\\n",
       "13509 2024-09-12           476          6                0          11   \n",
       "13510 2024-09-12           472          6                0          11   \n",
       "13511 2024-09-12           519          2                0          10   \n",
       "13512 2024-09-12           285          2                0          11   \n",
       "13513 2024-09-12           507          6                0          11   \n",
       "\n",
       "       stem-height  stem-width  stem-color    season  prediction  \n",
       "13509     0.219270         495           7  1.804273         0.0  \n",
       "13510     0.337788         493           7  0.027372         0.0  \n",
       "13511     0.485011         597           7  1.804273         0.0  \n",
       "13512     0.278104         523           7  1.804273         0.0  \n",
       "13513     0.683960         532           7  0.943195         1.0  "
      ]
     },
     "execution_count": 77,
     "metadata": {},
     "output_type": "execute_result"
    }
   ],
   "source": [
    "df.head()"
   ]
  },
  {
   "cell_type": "code",
   "execution_count": 78,
   "id": "d3ca55c1-4c67-483d-a455-e6ab26629b96",
   "metadata": {},
   "outputs": [
    {
     "data": {
      "text/plain": [
       "prediction\n",
       "0.0    7507\n",
       "1.0    6002\n",
       "Name: count, dtype: int64"
      ]
     },
     "execution_count": 78,
     "metadata": {},
     "output_type": "execute_result"
    }
   ],
   "source": [
    "df.prediction.value_counts()"
   ]
  },
  {
   "cell_type": "markdown",
   "id": "5688fe06-24e0-428b-af89-53e38a18f879",
   "metadata": {},
   "source": [
    "# Zurückschreiben"
   ]
  },
  {
   "cell_type": "markdown",
   "id": "d7ce33ed-76bd-4907-834a-88f7439c5d46",
   "metadata": {},
   "source": [
    "..."
   ]
  }
 ],
 "metadata": {
  "kernelspec": {
   "display_name": "Python 3 (ipykernel)",
   "language": "python",
   "name": "python3"
  },
  "language_info": {
   "codemirror_mode": {
    "name": "ipython",
    "version": 3
   },
   "file_extension": ".py",
   "mimetype": "text/x-python",
   "name": "python",
   "nbconvert_exporter": "python",
   "pygments_lexer": "ipython3",
   "version": "3.12.2"
  }
 },
 "nbformat": 4,
 "nbformat_minor": 5
}
