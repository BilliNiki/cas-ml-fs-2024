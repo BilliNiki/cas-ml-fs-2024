{
 "cells": [
  {
   "cell_type": "code",
   "execution_count": null,
   "id": "36aa7b6b-f0d3-488a-a581-dad3688d4729",
   "metadata": {},
   "outputs": [],
   "source": [
    "import mlflow\n",
    "\n",
    "# we never defined an official name, make sure you use the name of your own registered model here\n",
    "model_name = \"mushroom\"\n",
    "\n",
    "# this also only works if you set this alias for above model\n",
    "model_version_alias = \"champion\"\n",
    "\n",
    "model_uri = f\"models:/{model_name}@{model_version_alias}\"\n",
    "model = mlflow.sklearn.load_model(model_uri)"
   ]
  },
  {
   "cell_type": "markdown",
   "id": "1d7ef72c-6cc1-4f81-b20e-ed0d7de0614a",
   "metadata": {},
   "source": [
    "For the future: we have to convert the dict to whatever sklearn accepts *dataframe, or (1, 8) shaped numpy array. Dataframe is easier here."
   ]
  },
  {
   "cell_type": "code",
   "execution_count": null,
   "id": "cba40000-17a1-4406-840a-eac2d76b8d85",
   "metadata": {},
   "outputs": [],
   "source": [
    "import pandas as pd\n",
    "import numpy as np\n",
    "\n",
    "d = {'cap-diameter': 800.0, 'cap-shape': 5.0, 'gill-attachment': 4.0, 'gill-color': 0.0, 'stem-height': 1.1368282303, 'stem-width': 904.0, 'stem-color': 11.0, 'season': 0.7557389093}\n",
    "model.predict(pd.DataFrame(d, index=[0]))"
   ]
  },
  {
   "cell_type": "markdown",
   "id": "be7d1699-e03e-4333-82ba-bcaabc6dbf5b",
   "metadata": {},
   "source": [
    "# Quix"
   ]
  },
  {
   "cell_type": "markdown",
   "id": "b8ad61fe-b9c4-4cb9-887d-6c280b92c44d",
   "metadata": {},
   "source": [
    "## Setup"
   ]
  },
  {
   "cell_type": "code",
   "execution_count": 63,
   "id": "c3b605ef-50f9-4fd6-abd3-ca0bc3ca37b8",
   "metadata": {},
   "outputs": [],
   "source": [
    "from quixstreams import Application\n",
    "\n",
    "# create main quix object\n",
    "app = Application(\n",
    "    broker_address=\"message-broker:9092\",\n",
    ")\n",
    "\n",
    "# define topic and message format\n",
    "input_topic = app.topic(name=\"mushroom_inference_request\", value_deserializer=\"json\")\n",
    "\n",
    "# create a StreamingDataFrame\n",
    "sdf = app.dataframe(topic=input_topic)"
   ]
  },
  {
   "cell_type": "markdown",
   "id": "328708d0-cf69-4c90-8db5-55418b914bc9",
   "metadata": {},
   "source": [
    "## Print message"
   ]
  },
  {
   "cell_type": "code",
   "execution_count": null,
   "id": "296280d6-2c6e-4305-9efb-38e233d01647",
   "metadata": {},
   "outputs": [],
   "source": [
    "#sdf = sdf.update(lambda message: print(f\"Inference Request: {message}\"))\n",
    "sdf = sdf.update(print)\n",
    "\n",
    "app.run(sdf)"
   ]
  },
  {
   "cell_type": "markdown",
   "id": "f2b3850e-95df-4972-a280-bb77c46874c6",
   "metadata": {},
   "source": [
    "## Call model"
   ]
  },
  {
   "cell_type": "markdown",
   "id": "62eee6bc-b76d-4d5c-acf7-2ecaf6f5177c",
   "metadata": {},
   "source": [
    "Verbose:"
   ]
  },
  {
   "cell_type": "code",
   "execution_count": 60,
   "id": "1b3d5cb0-ea79-4561-90bd-2081d0dbc8bd",
   "metadata": {},
   "outputs": [
    {
     "name": "stderr",
     "output_type": "stream",
     "text": [
      "[2024-09-02 11:33:13,729] [INFO] [quixstreams] : Stop processing of StreamingDataFrame\n"
     ]
    }
   ],
   "source": [
    "if False:\n",
    "    def predict(d: dict) -> int:\n",
    "        # reads single row dict and returns prediction as integer scalar\n",
    "        # spelled out to make it easier to read\n",
    "        \n",
    "        input_as_df = pd.DataFrame(d, index=[0])\n",
    "        pred_as_array = model.predict(input_as_df)\n",
    "        pred_as_scalar = pred_as_array[0]\n",
    "        \n",
    "        return int(pred_as_scalar)\n",
    "    \n",
    "    sdf.update(lambda m: m.update({'prediction': predict(m)}))\n",
    "    sdf = sdf.update(print)\n",
    "    \n",
    "    app.run(sdf)"
   ]
  },
  {
   "cell_type": "code",
   "execution_count": 64,
   "id": "caf4e134-78f9-454a-a6ea-70beaebfe776",
   "metadata": {},
   "outputs": [
    {
     "name": "stderr",
     "output_type": "stream",
     "text": [
      "[2024-09-02 11:42:40,402] [INFO] [quixstreams] : Starting the Application with the config: broker_address=\"{'bootstrap.servers': 'message-broker:9092'}\" consumer_group=\"quixstreams-default\" auto_offset_reset=\"latest\" commit_interval=5.0s commit_every=0 processing_guarantee=\"at-least-once\"\n",
      "[2024-09-02 11:42:40,407] [INFO] [quixstreams] : Topics required for this application: \"mushroom_inference_request\", \"mushroom_inference_result\"\n",
      "[2024-09-02 11:42:40,415] [INFO] [quixstreams] : Creating a new topic \"mushroom_inference_result\" with config: \"{'num_partitions': 1, 'replication_factor': 1, 'extra_config': {}}\"\n",
      "[2024-09-02 11:42:41,421] [INFO] [quixstreams] : Topic \"mushroom_inference_result\" has been created\n",
      "[2024-09-02 11:42:41,423] [INFO] [quixstreams] : Validating Kafka topics exist and are configured correctly...\n",
      "[2024-09-02 11:42:41,435] [INFO] [quixstreams] : Kafka topics validation complete\n",
      "[2024-09-02 11:42:41,439] [INFO] [quixstreams] : Initializing state directory at \"/notebooks/state/quixstreams-default\"\n",
      "[2024-09-02 11:42:41,445] [INFO] [quixstreams] : Waiting for incoming messages\n"
     ]
    },
    {
     "name": "stdout",
     "output_type": "stream",
     "text": [
      "{'cap-diameter': 1003.0, 'cap-shape': 5.0, 'gill-attachment': 4.0, 'gill-color': 6.0, 'stem-height': 0.0099135591, 'stem-width': 1608.0, 'stem-color': 10.0, 'season': 1.002343729, 'prediction': 1}\n",
      "{'cap-diameter': 574.0, 'cap-shape': 4.0, 'gill-attachment': 0.0, 'gill-color': 9.0, 'stem-height': 0.1512698851, 'stem-width': 617.0, 'stem-color': 11.0, 'season': 1.7742273406, 'prediction': 0}\n",
      "{'cap-diameter': 1355.0, 'cap-shape': 0.0, 'gill-attachment': 0.0, 'gill-color': 8.0, 'stem-height': 1.1622464745, 'stem-width': 2474.0, 'stem-color': 8.0, 'season': 0.5996043647, 'prediction': 0}\n"
     ]
    },
    {
     "name": "stderr",
     "output_type": "stream",
     "text": [
      "[2024-09-02 13:05:52,153] [INFO] [quixstreams] : REQTMOUT [rdkafka#consumer-55] [thrd:message-broker:9092/bootstrap]: message-broker:9092/0: Timed out FetchRequest in flight (after 3501284ms, timeout #0)\n",
      "[2024-09-02 13:05:51,815] [WARNING] [quixstreams] : REQTMOUT [rdkafka#consumer-55] [thrd:message-broker:9092/bootstrap]: message-broker:9092/0: Timed out 1 in-flight, 0 retry-queued, 0 out-queue, 0 partially-sent requests\n",
      "[2024-09-02 13:05:51,830] [ERROR] [quixstreams] : FAIL [rdkafka#consumer-55] [thrd:message-broker:9092/bootstrap]: message-broker:9092/0: 1 request(s) timed out: disconnect (after 4990762ms in state UP)\n",
      "[2024-09-02 13:05:51,847] [WARNING] [quixstreams] : SESSTMOUT [rdkafka#consumer-55] [thrd:main]: Consumer group session timed out (in join-state steady) after 3501213 ms without a successful response from the group coordinator (broker 0, last error was Success): revoking assignment and rejoining group\n",
      "[2024-09-02 13:05:51,855] [ERROR] [quixstreams] : Kafka consumer error: message-broker:9092/0: 1 request(s) timed out: disconnect (after 4990762ms in state UP) code=\"-185\"\n",
      "[2024-09-02 13:07:53,710] [WARNING] [quixstreams] : SESSTMOUT [rdkafka#consumer-55] [thrd:main]: Consumer group session timed out (in join-state steady) after 61277 ms without a successful response from the group coordinator (broker 0, last error was Success): revoking assignment and rejoining group\n",
      "[2024-09-02 13:23:41,886] [INFO] [quixstreams] : Stop processing of StreamingDataFrame\n"
     ]
    }
   ],
   "source": [
    "sdf = sdf.update(lambda m: m.update({'prediction': int(model.predict(pd.DataFrame(m, index=[0]))[0])}))\n",
    "sdf = sdf.update(print)\n",
    "\n",
    "output_topic = app.topic(name=\"mushroom_inference_result\", value_deserializer=\"json\")\n",
    "\n",
    "sdf.to_topic(output_topic)\n",
    "\n",
    "app.run(sdf)"
   ]
  },
  {
   "cell_type": "code",
   "execution_count": null,
   "id": "514c64b6-4651-4e55-864d-188e7c0a9043",
   "metadata": {},
   "outputs": [],
   "source": []
  },
  {
   "cell_type": "code",
   "execution_count": null,
   "id": "06a05e83-9b58-40b9-9f1a-9e4afb29d9d8",
   "metadata": {},
   "outputs": [],
   "source": []
  },
  {
   "cell_type": "code",
   "execution_count": null,
   "id": "787c5a10-9bdb-4bfa-b581-48b9e35c7b99",
   "metadata": {},
   "outputs": [],
   "source": [
    "import isort\n",
    "\n",
    "print(isort.code(\"\"\"\n",
    "from kafka import KafkaProducer\n",
    "from kafka.errors import KafkaError\n",
    "from sklearn.neighbors import KernelDensity\n",
    "from random import randrange\n",
    "import pandas as pd\n",
    "import time\n",
    "import sys\n",
    "import argparse\n",
    "import time\n",
    "from loguru import logger\n",
    "\"\"\"))"
   ]
  }
 ],
 "metadata": {
  "kernelspec": {
   "display_name": "Python 3 (ipykernel)",
   "language": "python",
   "name": "python3"
  },
  "language_info": {
   "codemirror_mode": {
    "name": "ipython",
    "version": 3
   },
   "file_extension": ".py",
   "mimetype": "text/x-python",
   "name": "python",
   "nbconvert_exporter": "python",
   "pygments_lexer": "ipython3",
   "version": "3.12.2"
  }
 },
 "nbformat": 4,
 "nbformat_minor": 5
}
